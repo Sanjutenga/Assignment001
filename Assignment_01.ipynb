{
  "nbformat": 4,
  "nbformat_minor": 0,
  "metadata": {
    "colab": {
      "provenance": []
    },
    "kernelspec": {
      "name": "python3",
      "display_name": "Python 3"
    },
    "language_info": {
      "name": "python"
    }
  },
  "cells": [
    {
      "cell_type": "markdown",
      "source": [
        "# (1). In the below elements which of them are values or an expression? eg:- values can be integer or string and expressions will be mathematical operators.\n",
        "\n",
        "Ans: \n",
        "1.   **       -        ** **Arithmetic Operators**\n",
        "\n",
        "2.  'hello'     -      ** Values [String]**\n",
        "\n",
        "3.  -87.8      -      **  Values [integer]**\n",
        "\n",
        "4.   --       -         **Arithmetic Operators**\n",
        "\n",
        "5.   /       -         **Arithmetic Operators**\n",
        " \n",
        "6.   ++       -         **Arithmetic Operators**\n",
        "\n",
        "7.   6        -        ** Values [integer]**\n",
        "\n"
      ],
      "metadata": {
        "id": "XbyeVgssv8X_"
      }
    },
    {
      "cell_type": "markdown",
      "source": [
        "#(2). What is the difference between string and variable?\n",
        "\n",
        "#**STRING**\n",
        "1. String is always start and ends with quotes.\n",
        "2. String is a type of information you would store in a Variable.\n",
        "3. Example: 'Sanju', \"Sanjay\"\n",
        "\n",
        "#**Variable**\n",
        "1. Variable is mainly takes the value which needs to store information.\n",
        "2. Variable names should start with alphabets.\n",
        "3. Example: a = 15 , b = 30"
      ],
      "metadata": {
        "id": "erpdYwd477YN"
      }
    },
    {
      "cell_type": "markdown",
      "source": [
        "# (3).Describe three different data types?\n",
        "\n",
        "1. **integer**\n",
        "2. **float**\n",
        "3. **String**\n",
        "4. **Complex**"
      ],
      "metadata": {
        "id": "zy9bvmPieW_n"
      }
    },
    {
      "cell_type": "markdown",
      "source": [
        "#Examples"
      ],
      "metadata": {
        "id": "5yhU-NPrfdW-"
      }
    },
    {
      "cell_type": "code",
      "source": [
        "a = 55\n",
        "type(a)"
      ],
      "metadata": {
        "id": "Hgo0BPF08DuN",
        "colab": {
          "base_uri": "https://localhost:8080/"
        },
        "outputId": "5ebdccdf-9f64-4fb3-987d-fd1fecacf331"
      },
      "execution_count": 1,
      "outputs": [
        {
          "output_type": "execute_result",
          "data": {
            "text/plain": [
              "int"
            ]
          },
          "metadata": {},
          "execution_count": 1
        }
      ]
    },
    {
      "cell_type": "code",
      "source": [
        "b = 22.7\n",
        "type(b)"
      ],
      "metadata": {
        "colab": {
          "base_uri": "https://localhost:8080/"
        },
        "id": "aYXXIFBefBoP",
        "outputId": "dade4748-467c-4a76-d9b9-584e4d8ef4cf"
      },
      "execution_count": 2,
      "outputs": [
        {
          "output_type": "execute_result",
          "data": {
            "text/plain": [
              "float"
            ]
          },
          "metadata": {},
          "execution_count": 2
        }
      ]
    },
    {
      "cell_type": "code",
      "source": [
        "a = \"Sanjay\"\n",
        "type(a)"
      ],
      "metadata": {
        "colab": {
          "base_uri": "https://localhost:8080/"
        },
        "id": "vTw6ttoEfK01",
        "outputId": "298cef06-b7a6-4829-e28d-85df95c4a031"
      },
      "execution_count": 3,
      "outputs": [
        {
          "output_type": "execute_result",
          "data": {
            "text/plain": [
              "str"
            ]
          },
          "metadata": {},
          "execution_count": 3
        }
      ]
    },
    {
      "cell_type": "code",
      "source": [
        "a = 2+3j\n",
        "type(a)"
      ],
      "metadata": {
        "colab": {
          "base_uri": "https://localhost:8080/"
        },
        "id": "geCQ5bkbfPCd",
        "outputId": "c0c973a4-f66b-4dee-bf9d-a52b1dd595ed"
      },
      "execution_count": 4,
      "outputs": [
        {
          "output_type": "execute_result",
          "data": {
            "text/plain": [
              "complex"
            ]
          },
          "metadata": {},
          "execution_count": 4
        }
      ]
    },
    {
      "cell_type": "code",
      "source": [
        "a.real"
      ],
      "metadata": {
        "colab": {
          "base_uri": "https://localhost:8080/"
        },
        "id": "Zos5FNn-fXS1",
        "outputId": "4ba99309-e0cc-4d0d-eb44-970a13af3006"
      },
      "execution_count": 5,
      "outputs": [
        {
          "output_type": "execute_result",
          "data": {
            "text/plain": [
              "2.0"
            ]
          },
          "metadata": {},
          "execution_count": 5
        }
      ]
    },
    {
      "cell_type": "code",
      "source": [
        "a.imag"
      ],
      "metadata": {
        "colab": {
          "base_uri": "https://localhost:8080/"
        },
        "id": "VrN8Ftd7fY1u",
        "outputId": "ea6de855-7824-4e5b-f455-784dd75d58da"
      },
      "execution_count": 6,
      "outputs": [
        {
          "output_type": "execute_result",
          "data": {
            "text/plain": [
              "3.0"
            ]
          },
          "metadata": {},
          "execution_count": 6
        }
      ]
    },
    {
      "cell_type": "markdown",
      "source": [
        "# (4).What is an expression made up of? What do all expressions do?\n",
        "Ans:  **Expression** is an Combinations of Operators and Operands or values that produce other values.\n",
        "Expressions mainly evaluates to a single value."
      ],
      "metadata": {
        "id": "hnob0Bu5fhFN"
      }
    },
    {
      "cell_type": "markdown",
      "source": [
        "# (5). This assignment statements, like spam = 10. What is the difference between expression and a statement?\n",
        "Ans: An **Expression** evaluates the single value. and **Expression** mainly Combination of Operators, values and variables that produce result of value. But **Statement** does not evaluates Single value. and Statement represents mainly action or Command.\n",
        "\n",
        "\n",
        "\n",
        "\n",
        "\n",
        "\n"
      ],
      "metadata": {
        "id": "Z7--U0CahEF9"
      }
    },
    {
      "cell_type": "markdown",
      "source": [
        "#(6). After running the following code, what does the variable bacon contain?\n",
        "bacon = 22\n",
        "\n",
        "\n",
        "---\n",
        "\n",
        "\n",
        "bacon + 1\n",
        "\n",
        "Ans: The bacon variable set to 22. the bacon +1 does not assign the value in bacon. that would be statement like  (bacon = bacon + 1)"
      ],
      "metadata": {
        "id": "5tjELj9Sjv2F"
      }
    },
    {
      "cell_type": "code",
      "source": [
        "bacon = 22\n",
        "bacon + 1"
      ],
      "metadata": {
        "colab": {
          "base_uri": "https://localhost:8080/"
        },
        "id": "z-jVsTs6mPsc",
        "outputId": "4ac0282f-337f-4d80-833f-3340e4eee660"
      },
      "execution_count": 23,
      "outputs": [
        {
          "output_type": "execute_result",
          "data": {
            "text/plain": [
              "23"
            ]
          },
          "metadata": {},
          "execution_count": 23
        }
      ]
    },
    {
      "cell_type": "markdown",
      "source": [
        "# (7). What should the values of the following two terms be?\n",
        "Ans:-\n"
      ],
      "metadata": {
        "id": "duyxdo5Bl26c"
      }
    },
    {
      "cell_type": "code",
      "source": [
        "'spam' + 'spamspam'"
      ],
      "metadata": {
        "colab": {
          "base_uri": "https://localhost:8080/",
          "height": 35
        },
        "id": "wGnofPAemD8A",
        "outputId": "3483c231-b928-4796-9427-a53499a0550d"
      },
      "execution_count": 14,
      "outputs": [
        {
          "output_type": "execute_result",
          "data": {
            "text/plain": [
              "'spamspamspam'"
            ],
            "application/vnd.google.colaboratory.intrinsic+json": {
              "type": "string"
            }
          },
          "metadata": {},
          "execution_count": 14
        }
      ]
    },
    {
      "cell_type": "code",
      "source": [
        "'spam' * 3"
      ],
      "metadata": {
        "colab": {
          "base_uri": "https://localhost:8080/",
          "height": 35
        },
        "id": "ZiBcSjKcmIUn",
        "outputId": "a9f2e93c-9db0-4b5b-952b-588266ca0e60"
      },
      "execution_count": 15,
      "outputs": [
        {
          "output_type": "execute_result",
          "data": {
            "text/plain": [
              "'spamspamspam'"
            ],
            "application/vnd.google.colaboratory.intrinsic+json": {
              "type": "string"
            }
          },
          "metadata": {},
          "execution_count": 15
        }
      ]
    },
    {
      "cell_type": "markdown",
      "source": [
        "# (8).Why is eggs a valid variable name while 100 is invalid?\n",
        "Ans:- Because always variable name should start with alphabets not an number."
      ],
      "metadata": {
        "id": "6wOflVEInlov"
      }
    },
    {
      "cell_type": "markdown",
      "source": [
        "# (9). What three functions can be used to get the integer, floating-point number, or string version of a value?\n",
        "Ans:- \n",
        "1. integer - int(), \n",
        "2. floating-point number - float(), \n",
        "3. string - str()"
      ],
      "metadata": {
        "id": "DIbmAvoBoLA3"
      }
    },
    {
      "cell_type": "markdown",
      "source": [
        "# (10). Why does this expression cause an error? How can you fix it?\n",
        "Ans:- TypeError: can only concatenate str (not \"int\") to str\n"
      ],
      "metadata": {
        "id": "qz-sHasfotNs"
      }
    },
    {
      "cell_type": "code",
      "source": [
        "'I have eaten' + 99 + 'burritos.'"
      ],
      "metadata": {
        "colab": {
          "base_uri": "https://localhost:8080/",
          "height": 166
        },
        "id": "TY9soVWco51k",
        "outputId": "db2bc1c7-0c94-4f01-dc27-ec1a20fbdd3f"
      },
      "execution_count": 24,
      "outputs": [
        {
          "output_type": "error",
          "ename": "TypeError",
          "evalue": "ignored",
          "traceback": [
            "\u001b[0;31m---------------------------------------------------------------------------\u001b[0m",
            "\u001b[0;31mTypeError\u001b[0m                                 Traceback (most recent call last)",
            "\u001b[0;32m<ipython-input-24-f5781a105d59>\u001b[0m in \u001b[0;36m<module>\u001b[0;34m\u001b[0m\n\u001b[0;32m----> 1\u001b[0;31m \u001b[0;34m'I have eaten'\u001b[0m \u001b[0;34m+\u001b[0m \u001b[0;36m99\u001b[0m \u001b[0;34m+\u001b[0m \u001b[0;34m'burritos.'\u001b[0m\u001b[0;34m\u001b[0m\u001b[0;34m\u001b[0m\u001b[0m\n\u001b[0m",
            "\u001b[0;31mTypeError\u001b[0m: can only concatenate str (not \"int\") to str"
          ]
        }
      ]
    },
    {
      "cell_type": "code",
      "source": [
        "'I have eaten' + str(99) + 'burritos.'"
      ],
      "metadata": {
        "colab": {
          "base_uri": "https://localhost:8080/",
          "height": 35
        },
        "id": "NHMwQsBFpELR",
        "outputId": "3e2c3c49-658f-4e6f-df69-06d83ded8b6c"
      },
      "execution_count": 25,
      "outputs": [
        {
          "output_type": "execute_result",
          "data": {
            "text/plain": [
              "'I have eaten99burritos.'"
            ],
            "application/vnd.google.colaboratory.intrinsic+json": {
              "type": "string"
            }
          },
          "metadata": {},
          "execution_count": 25
        }
      ]
    }
  ]
}