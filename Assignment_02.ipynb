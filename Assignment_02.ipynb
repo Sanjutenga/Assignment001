{
  "nbformat": 4,
  "nbformat_minor": 0,
  "metadata": {
    "colab": {
      "provenance": []
    },
    "kernelspec": {
      "name": "python3",
      "display_name": "Python 3"
    },
    "language_info": {
      "name": "python"
    }
  },
  "cells": [
    {
      "cell_type": "markdown",
      "source": [
        "# 1.What are the two values of the Boolean data type? How do you write them?\n",
        "\n",
        "``` There are mainly two types of boolean \n",
        "  True\n",
        "  False\n",
        "  ```\n",
        "  ```\n",
        "  True is defined by bool value called `1`\n",
        "  False is defined by bool value called `0`\n",
        "\n",
        "\n"
      ],
      "metadata": {
        "id": "YWVFF00Xmr20"
      }
    },
    {
      "cell_type": "markdown",
      "source": [
        "# 2. What are the three different types of Boolean operators?\n",
        "```\n",
        "The three different types of boolean operators are AND, OR and NOT.\n",
        "```"
      ],
      "metadata": {
        "id": "hUsSlhSZnoyZ"
      }
    },
    {
      "cell_type": "markdown",
      "source": [
        "#3.Make a list of each Boolean operator's truth tables (i.e. every possible combination of Boolean values for the operator and what it evaluate ).\n",
        "```\n",
        "1) AND truth table\n",
        "````\n",
        "|A|B|result|\n",
        "|:-:|:-:|:-:|\n",
        "False|False|False|\n",
        "True |False|False|\n",
        "False|True|False|\n",
        "True|True|True|\n",
        "\n",
        "```\n",
        "2) OR truth table\n",
        "```\n",
        "|A|B|Result|\n",
        "|:-:|:-:|:-:|\n",
        "|True|False|True|\n",
        "|False|True|True|\n",
        "|True|True|True|\n",
        "|False|False|False|\n",
        "\n",
        "```\n",
        "3) Not truth table\n",
        "```\n",
        "\n",
        "|Operand|result|\n",
        "|:-:|:-:|\n",
        "|True|False|\n",
        "|False|True|\n",
        "\n",
        "```\n",
        "In This truth table True represents 1, and False represents 0\n",
        "```"
      ],
      "metadata": {
        "id": "PH3VXXfSod5J"
      }
    },
    {
      "cell_type": "markdown",
      "source": [
        "#4. What are the values of the following expressions?"
      ],
      "metadata": {
        "id": "Xu_TFGk3swug"
      }
    },
    {
      "cell_type": "code",
      "source": [
        "print((5 > 4) and (3 == 5))"
      ],
      "metadata": {
        "colab": {
          "base_uri": "https://localhost:8080/"
        },
        "id": "OtvwEcnOs54R",
        "outputId": "2c6876f8-d318-445e-b150-13527a70ab24"
      },
      "execution_count": 1,
      "outputs": [
        {
          "output_type": "stream",
          "name": "stdout",
          "text": [
            "False\n"
          ]
        }
      ]
    },
    {
      "cell_type": "code",
      "source": [
        "print(not(5>4))"
      ],
      "metadata": {
        "colab": {
          "base_uri": "https://localhost:8080/"
        },
        "id": "30l5lCXytUK_",
        "outputId": "d7d2a431-9120-45fe-d438-128de9496f6b"
      },
      "execution_count": 2,
      "outputs": [
        {
          "output_type": "stream",
          "name": "stdout",
          "text": [
            "False\n"
          ]
        }
      ]
    },
    {
      "cell_type": "code",
      "source": [
        "print((5 > 4) or (3 == 5))"
      ],
      "metadata": {
        "colab": {
          "base_uri": "https://localhost:8080/"
        },
        "id": "XZR-HYlutbcO",
        "outputId": "913f9dfd-c975-4e1b-f862-617794da5e76"
      },
      "execution_count": 3,
      "outputs": [
        {
          "output_type": "stream",
          "name": "stdout",
          "text": [
            "True\n"
          ]
        }
      ]
    },
    {
      "cell_type": "code",
      "source": [
        "print(not((5 > 4) or (3 == 5)))"
      ],
      "metadata": {
        "colab": {
          "base_uri": "https://localhost:8080/"
        },
        "id": "dFzIEb6wtfzZ",
        "outputId": "8b77b01f-ee74-4fbe-aa8d-d25329a04387"
      },
      "execution_count": 4,
      "outputs": [
        {
          "output_type": "stream",
          "name": "stdout",
          "text": [
            "False\n"
          ]
        }
      ]
    },
    {
      "cell_type": "code",
      "source": [
        "print((True and True) and (True == False))"
      ],
      "metadata": {
        "colab": {
          "base_uri": "https://localhost:8080/"
        },
        "id": "ZBd3fP0jtqHp",
        "outputId": "0a604ed3-9c0d-427a-c789-49b155445e79"
      },
      "execution_count": 5,
      "outputs": [
        {
          "output_type": "stream",
          "name": "stdout",
          "text": [
            "False\n"
          ]
        }
      ]
    },
    {
      "cell_type": "code",
      "source": [
        "print((not False) or (not True))"
      ],
      "metadata": {
        "colab": {
          "base_uri": "https://localhost:8080/"
        },
        "id": "hA7CdmNituF4",
        "outputId": "54f30226-7b51-469e-9614-ff4ab2f5c6ad"
      },
      "execution_count": 6,
      "outputs": [
        {
          "output_type": "stream",
          "name": "stdout",
          "text": [
            "True\n"
          ]
        }
      ]
    },
    {
      "cell_type": "markdown",
      "source": [
        "#5. What are the six comparison operators?\n",
        "```\n",
        "less than  \" < \"\n",
        "greater than   \" > \"\n",
        "lesser than or equal  \" <= \"\n",
        "greater than or equal \" >= \"\n",
        "equal to    \" == \"\n",
        "not equal to   \" != \"\n",
        "```"
      ],
      "metadata": {
        "id": "IH-PUGGAt6TC"
      }
    },
    {
      "cell_type": "markdown",
      "source": [
        "#6. How do you tell the difference between the equal to and assignment operators?Describe a condition and when you would use one.\n",
        "```\n",
        "```\n",
        "\n",
        "|equal to operators | assignment operators |\n",
        "|:-:|:-:|\n",
        "|It mainly checks whether the two given operands equal or not | It is used to assign the value of an variable\n",
        "|  \" == \" |  \" = \"|"
      ],
      "metadata": {
        "id": "7WjZ9a3putGg"
      }
    },
    {
      "cell_type": "code",
      "source": [
        "a = 10"
      ],
      "metadata": {
        "id": "5XOAInt5uxf6"
      },
      "execution_count": 7,
      "outputs": []
    },
    {
      "cell_type": "code",
      "source": [
        "a  == 10"
      ],
      "metadata": {
        "colab": {
          "base_uri": "https://localhost:8080/"
        },
        "id": "_2ORtcyPvzt3",
        "outputId": "4a5c0b47-5f76-4861-bbef-fea948c4d5b8"
      },
      "execution_count": 8,
      "outputs": [
        {
          "output_type": "execute_result",
          "data": {
            "text/plain": [
              "True"
            ]
          },
          "metadata": {},
          "execution_count": 8
        }
      ]
    },
    {
      "cell_type": "code",
      "source": [
        "10  == 10"
      ],
      "metadata": {
        "colab": {
          "base_uri": "https://localhost:8080/"
        },
        "id": "K52X74lBv1DF",
        "outputId": "7eb1b14f-4cf6-4358-c04f-8b49135c7878"
      },
      "execution_count": 9,
      "outputs": [
        {
          "output_type": "execute_result",
          "data": {
            "text/plain": [
              "True"
            ]
          },
          "metadata": {},
          "execution_count": 9
        }
      ]
    },
    {
      "cell_type": "markdown",
      "source": [
        "#7. Identify the three blocks in this code:"
      ],
      "metadata": {
        "id": "ZeSXYFjZwDDo"
      }
    },
    {
      "cell_type": "code",
      "source": [
        "spam = 0\n",
        "if spam == 10:\n",
        "  print('eggs')\n",
        "  if spam>5:\n",
        "    print('bacon')\n",
        "else:\n",
        "      print('ham')\n",
        "      print('spam')\n",
        "      print('spam')"
      ],
      "metadata": {
        "colab": {
          "base_uri": "https://localhost:8080/"
        },
        "id": "nMw_tk5pwM9I",
        "outputId": "230f05db-65e5-444f-849f-4c587767e8bb"
      },
      "execution_count": 10,
      "outputs": [
        {
          "output_type": "stream",
          "name": "stdout",
          "text": [
            "ham\n",
            "spam\n",
            "spam\n"
          ]
        }
      ]
    },
    {
      "cell_type": "code",
      "source": [
        "\n",
        "# solution : -  The three blocks are inside in if statement and  print statements are print(\"bacon\") and print(\"ham\")\n",
        "\n",
        "print('eggs')\n",
        "if spam > 5:\n",
        "    print('bacon')\n",
        "else:\n",
        "    print('ham')\n",
        "print('spam')\n"
      ],
      "metadata": {
        "colab": {
          "base_uri": "https://localhost:8080/"
        },
        "id": "co5x9VcqxDHa",
        "outputId": "588faba9-b5bf-4c78-911c-a00bc1d8f626"
      },
      "execution_count": 11,
      "outputs": [
        {
          "output_type": "stream",
          "name": "stdout",
          "text": [
            "eggs\n",
            "ham\n",
            "spam\n"
          ]
        }
      ]
    },
    {
      "cell_type": "markdown",
      "source": [
        "#8. Write code that prints Hello if 1 is stored in spam, prints Howdy if 2 is stored in spam, and prints Greetings! if anything else is stored in spam."
      ],
      "metadata": {
        "id": "1cSZgwr2x5uP"
      }
    },
    {
      "cell_type": "code",
      "source": [
        "if spam == 1:\n",
        "  print(\"Hello\")\n",
        "elif spam == 2:\n",
        "   print(\"Howdy\")\n",
        "else:\n",
        "  print(\"Greetings!\")"
      ],
      "metadata": {
        "colab": {
          "base_uri": "https://localhost:8080/"
        },
        "id": "4OImnkBRyFDv",
        "outputId": "290551f2-afb6-4e7a-9c00-eb98ef357965"
      },
      "execution_count": 13,
      "outputs": [
        {
          "output_type": "stream",
          "name": "stdout",
          "text": [
            "Greetings!\n"
          ]
        }
      ]
    },
    {
      "cell_type": "markdown",
      "source": [
        "# 9.If your programme is stuck in an endless loop, what keys you’ll press?\n",
        "```\n",
        "If its endless loop or infinite loop means re run or CTRL-C\n",
        "```"
      ],
      "metadata": {
        "id": "QJ6x5OZ4yjXp"
      }
    },
    {
      "cell_type": "markdown",
      "source": [
        "#10. How can you tell the difference between break and continue?\n",
        "```\n",
        "break is mainly stops the entire loop which breaks the execution ofcurrent loop\n",
        "\n",
        "continue is mainly not terminate the current loop but it will continues to next loop also\n",
        "```"
      ],
      "metadata": {
        "id": "U7PBFFrszC7H"
      }
    },
    {
      "cell_type": "markdown",
      "source": [
        "#11. In a for loop, what is the difference between range(10), range(0, 10), and range(0, 10, 1)?"
      ],
      "metadata": {
        "id": "asxQOw-b0IOg"
      }
    },
    {
      "cell_type": "code",
      "source": [
        "range(10)"
      ],
      "metadata": {
        "colab": {
          "base_uri": "https://localhost:8080/"
        },
        "id": "U3KSRzxw0M4w",
        "outputId": "ed5e83a6-862e-45b8-8a21-d0701a22923a"
      },
      "execution_count": 14,
      "outputs": [
        {
          "output_type": "execute_result",
          "data": {
            "text/plain": [
              "range(0, 10)"
            ]
          },
          "metadata": {},
          "execution_count": 14
        }
      ]
    },
    {
      "cell_type": "code",
      "source": [
        "for i in range(10):\n",
        "  print(i)"
      ],
      "metadata": {
        "colab": {
          "base_uri": "https://localhost:8080/"
        },
        "id": "hiJ2BPYQ0Q36",
        "outputId": "e2cbec2e-6cbd-4874-cb0c-5dc72a11795d"
      },
      "execution_count": 15,
      "outputs": [
        {
          "output_type": "stream",
          "name": "stdout",
          "text": [
            "0\n",
            "1\n",
            "2\n",
            "3\n",
            "4\n",
            "5\n",
            "6\n",
            "7\n",
            "8\n",
            "9\n"
          ]
        }
      ]
    },
    {
      "cell_type": "code",
      "source": [
        "for i in range(0,10):\n",
        "  print(i)"
      ],
      "metadata": {
        "colab": {
          "base_uri": "https://localhost:8080/"
        },
        "id": "FlbYdcRu0Uci",
        "outputId": "8503a18b-bd90-4b8f-c4e6-6bb7f9e00fce"
      },
      "execution_count": 16,
      "outputs": [
        {
          "output_type": "stream",
          "name": "stdout",
          "text": [
            "0\n",
            "1\n",
            "2\n",
            "3\n",
            "4\n",
            "5\n",
            "6\n",
            "7\n",
            "8\n",
            "9\n"
          ]
        }
      ]
    },
    {
      "cell_type": "code",
      "source": [
        "for i in range(0,10,1):\n",
        "  print(i)"
      ],
      "metadata": {
        "colab": {
          "base_uri": "https://localhost:8080/"
        },
        "id": "j2lzin0z0YNy",
        "outputId": "769e2fe0-7588-46f7-d407-9b216b4b6b20"
      },
      "execution_count": 17,
      "outputs": [
        {
          "output_type": "stream",
          "name": "stdout",
          "text": [
            "0\n",
            "1\n",
            "2\n",
            "3\n",
            "4\n",
            "5\n",
            "6\n",
            "7\n",
            "8\n",
            "9\n"
          ]
        }
      ]
    },
    {
      "cell_type": "markdown",
      "source": [
        "#12. Write a short program that prints the numbers 1 to 10 using a for loop. Then write an equivalent program that prints the numbers 1 to 10 using a while loop.\n"
      ],
      "metadata": {
        "id": "r7-AN0US0tXZ"
      }
    },
    {
      "cell_type": "code",
      "source": [
        "for i in range(1,11):   # By using for loop by including outbound \n",
        "  print(i)"
      ],
      "metadata": {
        "colab": {
          "base_uri": "https://localhost:8080/"
        },
        "id": "w1iHmt7A0vzg",
        "outputId": "d0cc6184-ee71-4f23-df9f-351da5346fa0"
      },
      "execution_count": 19,
      "outputs": [
        {
          "output_type": "stream",
          "name": "stdout",
          "text": [
            "1\n",
            "2\n",
            "3\n",
            "4\n",
            "5\n",
            "6\n",
            "7\n",
            "8\n",
            "9\n",
            "10\n"
          ]
        }
      ]
    },
    {
      "cell_type": "code",
      "source": [
        "i = 1    # by using while loop\n",
        "while i <= 10:\n",
        "  print(i)\n",
        "  i = i+1"
      ],
      "metadata": {
        "colab": {
          "base_uri": "https://localhost:8080/"
        },
        "id": "Nm_PPETv1M2e",
        "outputId": "911b7a99-0c83-4070-d14b-81424c41953f"
      },
      "execution_count": 22,
      "outputs": [
        {
          "output_type": "stream",
          "name": "stdout",
          "text": [
            "1\n",
            "2\n",
            "3\n",
            "4\n",
            "5\n",
            "6\n",
            "7\n",
            "8\n",
            "9\n",
            "10\n"
          ]
        }
      ]
    },
    {
      "cell_type": "markdown",
      "source": [
        "#13. If you had a function named bacon() inside a module named spam, how would you call it after importing spam?\n",
        "\n",
        "spam.bacon()"
      ],
      "metadata": {
        "id": "9xWT4W1w1jDP"
      }
    },
    {
      "cell_type": "code",
      "source": [
        "spam.bacon()"
      ],
      "metadata": {
        "id": "sW0j5qR41wJ8"
      },
      "execution_count": null,
      "outputs": []
    }
  ]
}