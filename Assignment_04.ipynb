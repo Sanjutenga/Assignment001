{
  "nbformat": 4,
  "nbformat_minor": 0,
  "metadata": {
    "colab": {
      "provenance": []
    },
    "kernelspec": {
      "name": "python3",
      "display_name": "Python 3"
    },
    "language_info": {
      "name": "python"
    }
  },
  "cells": [
    {
      "cell_type": "markdown",
      "source": [
        "#1. What exactly is []?\n",
        "Ans: list[ ] - empty list value, it contains no value"
      ],
      "metadata": {
        "id": "OXqZTwH5hznD"
      }
    },
    {
      "cell_type": "markdown",
      "source": [
        "\n",
        "#2. In a list of values stored in a variable called spam, how would you assign the value 'hello' as the third value? (Assume [2, 4, 6, 8, 10] are in spam.)\n"
      ],
      "metadata": {
        "id": "gU8EpECKiK-y"
      }
    },
    {
      "cell_type": "code",
      "source": [
        "spam = [2,4,6,8,10]\n",
        "spam[2] = 'hello'"
      ],
      "metadata": {
        "id": "AMpRercRiZdQ"
      },
      "execution_count": null,
      "outputs": []
    },
    {
      "cell_type": "code",
      "source": [
        "spam"
      ],
      "metadata": {
        "colab": {
          "base_uri": "https://localhost:8080/"
        },
        "id": "3tUGRnZcjQQi",
        "outputId": "29f8e11a-1b79-422a-ab83-569683c1cfbb"
      },
      "execution_count": null,
      "outputs": [
        {
          "output_type": "execute_result",
          "data": {
            "text/plain": [
              "[2, 4, 'hello', 8, 10]"
            ]
          },
          "metadata": {},
          "execution_count": 2
        }
      ]
    },
    {
      "cell_type": "markdown",
      "source": [
        "#3. What is the value of spam[int(int('3'*2) / 11)]?\n",
        "##Lets pretend the spam includes the list ['a','b','c','d'] for the next three queries."
      ],
      "metadata": {
        "id": "cpR_B-wDkAB5"
      }
    },
    {
      "cell_type": "code",
      "source": [
        "spam[int(int('3'*2) / 11)]\n",
        "# Ans == 'd'"
      ],
      "metadata": {
        "colab": {
          "base_uri": "https://localhost:8080/"
        },
        "id": "0SLQJADckKZO",
        "outputId": "2f9cb446-d3b6-40f4-f0a9-c408ea14cadc"
      },
      "execution_count": null,
      "outputs": [
        {
          "output_type": "execute_result",
          "data": {
            "text/plain": [
              "8"
            ]
          },
          "metadata": {},
          "execution_count": 3
        }
      ]
    },
    {
      "cell_type": "code",
      "source": [
        "spam = ['a','b','c','d']"
      ],
      "metadata": {
        "id": "MayPcvmil9rY"
      },
      "execution_count": null,
      "outputs": []
    },
    {
      "cell_type": "markdown",
      "source": [
        "#4. What is the value of spam[-1]?\n",
        "Ans:  'd' --- because its negative index"
      ],
      "metadata": {
        "id": "Us9eGpgSk-g_"
      }
    },
    {
      "cell_type": "code",
      "source": [
        "spam = ['a','b','c','d']\n",
        "spam[-1]"
      ],
      "metadata": {
        "colab": {
          "base_uri": "https://localhost:8080/",
          "height": 35
        },
        "id": "WqYZreM7lvFw",
        "outputId": "12bbb501-1606-4ca2-cbba-2da9ef61a517"
      },
      "execution_count": null,
      "outputs": [
        {
          "output_type": "execute_result",
          "data": {
            "text/plain": [
              "'d'"
            ],
            "application/vnd.google.colaboratory.intrinsic+json": {
              "type": "string"
            }
          },
          "metadata": {},
          "execution_count": 5
        }
      ]
    },
    {
      "cell_type": "markdown",
      "source": [
        "#5. What is the value of spam[:2]?\n",
        "Ans: "
      ],
      "metadata": {
        "id": "iZdEycmHlbqf"
      }
    },
    {
      "cell_type": "code",
      "source": [
        "spam = ['a','b','c','d']\n",
        "spam[:2]"
      ],
      "metadata": {
        "colab": {
          "base_uri": "https://localhost:8080/"
        },
        "id": "C4bNeAimlg4M",
        "outputId": "f34e30c4-3b1d-4b36-cfbc-fa57c1bf76c8"
      },
      "execution_count": null,
      "outputs": [
        {
          "output_type": "execute_result",
          "data": {
            "text/plain": [
              "['a', 'b']"
            ]
          },
          "metadata": {},
          "execution_count": 4
        }
      ]
    },
    {
      "cell_type": "markdown",
      "source": [
        "#Lets pretend bacon has the list [3.14, 'cat', 11, 'cat',True] for the next three questions.\n",
        "#6. What is the value of bacon.index('cat')?"
      ],
      "metadata": {
        "id": "sbkuu0nrI63-"
      }
    },
    {
      "cell_type": "code",
      "source": [
        "bacon = [3.14, 'cat', 11, 'cat',True]\n",
        "bacon.index('cat')"
      ],
      "metadata": {
        "colab": {
          "base_uri": "https://localhost:8080/"
        },
        "id": "zrzDCVdaJe-0",
        "outputId": "27904bd4-df7c-4b5f-8b4d-3ad367eee8d7"
      },
      "execution_count": 1,
      "outputs": [
        {
          "output_type": "execute_result",
          "data": {
            "text/plain": [
              "1"
            ]
          },
          "metadata": {},
          "execution_count": 1
        }
      ]
    },
    {
      "cell_type": "markdown",
      "source": [
        "#7. How does bacon.append(99) change the look of the list value in bacon?"
      ],
      "metadata": {
        "id": "dYe-kdWkKSjl"
      }
    },
    {
      "cell_type": "code",
      "source": [
        "bacon = [3.14, 'cat', 11, 'cat',True]\n",
        "bacon.append(99)"
      ],
      "metadata": {
        "id": "GBtxdmnwKXFJ"
      },
      "execution_count": 2,
      "outputs": []
    },
    {
      "cell_type": "code",
      "source": [
        "bacon"
      ],
      "metadata": {
        "colab": {
          "base_uri": "https://localhost:8080/"
        },
        "id": "jCBMbOyXKcd0",
        "outputId": "4380a33f-eed3-4571-9394-a56983196533"
      },
      "execution_count": 3,
      "outputs": [
        {
          "output_type": "execute_result",
          "data": {
            "text/plain": [
              "[3.14, 'cat', 11, 'cat', True, 99]"
            ]
          },
          "metadata": {},
          "execution_count": 3
        }
      ]
    },
    {
      "cell_type": "markdown",
      "source": [
        "#8. How does bacon.remove('cat') change the look of the list in bacon?"
      ],
      "metadata": {
        "id": "Vn7CB7DIKg5P"
      }
    },
    {
      "cell_type": "code",
      "source": [
        "bacon = [3.14, 'cat', 11, 'cat',True]\n",
        "bacon.remove('cat')"
      ],
      "metadata": {
        "id": "gZ7VSxHaKoeY"
      },
      "execution_count": 4,
      "outputs": []
    },
    {
      "cell_type": "code",
      "source": [
        "bacon"
      ],
      "metadata": {
        "colab": {
          "base_uri": "https://localhost:8080/"
        },
        "id": "WAoOgqTwKtDX",
        "outputId": "714cc02d-007b-4949-d1ef-35b5d96363c1"
      },
      "execution_count": 5,
      "outputs": [
        {
          "output_type": "execute_result",
          "data": {
            "text/plain": [
              "[3.14, 11, 'cat', True]"
            ]
          },
          "metadata": {},
          "execution_count": 5
        }
      ]
    },
    {
      "cell_type": "markdown",
      "source": [
        "#9. What are the list concatenation and list replication operators?\n",
        "Ans:\n",
        "# list concatenation:\n",
        "one list is added to the end of another list its called list concatenation.  it is represented by **\"+\",**  \n",
        "## list replication:\n",
        "repeatead each element in the list. it is represented by **\"*\"**\n"
      ],
      "metadata": {
        "id": "-h3C3AUXK4N1"
      }
    },
    {
      "cell_type": "code",
      "source": [
        "l1 = [3,5,354,3,4]\n",
        "l2 = [53,5,3,5,3,5]\n",
        "l1+l2"
      ],
      "metadata": {
        "colab": {
          "base_uri": "https://localhost:8080/"
        },
        "id": "-b6I4MYIK5qw",
        "outputId": "0d626261-d98b-4e89-e31e-abb54190b88b"
      },
      "execution_count": 6,
      "outputs": [
        {
          "output_type": "execute_result",
          "data": {
            "text/plain": [
              "[3, 5, 354, 3, 4, 53, 5, 3, 5, 3, 5]"
            ]
          },
          "metadata": {},
          "execution_count": 6
        }
      ]
    },
    {
      "cell_type": "code",
      "source": [
        "l = [5,6,7]\n",
        "l*3"
      ],
      "metadata": {
        "colab": {
          "base_uri": "https://localhost:8080/"
        },
        "id": "l9lJUagiMfC4",
        "outputId": "a19701ad-5f77-4ef4-c6ee-62a73ab29943"
      },
      "execution_count": 7,
      "outputs": [
        {
          "output_type": "execute_result",
          "data": {
            "text/plain": [
              "[5, 6, 7, 5, 6, 7, 5, 6, 7]"
            ]
          },
          "metadata": {},
          "execution_count": 7
        }
      ]
    },
    {
      "cell_type": "markdown",
      "source": [
        "#10. What is difference between the list methods append() and insert()?\n",
        "Ans:\n",
        "# append(): -\n",
        "   append() method is mainly add the value of element at the end of the list.\n",
        "# insert(): -\n",
        "   insert() method is mainly add the new element or value anywhere in the list.mainly adds specific position  of an list.\n",
        "   "
      ],
      "metadata": {
        "id": "KOHhYsXpMp7E"
      }
    },
    {
      "cell_type": "code",
      "source": [
        "l = [1,2,3,4,\"cat\",\"dog\"]\n",
        "l.append(\"goat\")"
      ],
      "metadata": {
        "id": "72djPC6jMq-B"
      },
      "execution_count": 22,
      "outputs": []
    },
    {
      "cell_type": "code",
      "source": [
        "l"
      ],
      "metadata": {
        "colab": {
          "base_uri": "https://localhost:8080/"
        },
        "id": "w2CKzKStNvo8",
        "outputId": "ebe7a801-e8dd-416e-918c-558d632cf2cf"
      },
      "execution_count": 9,
      "outputs": [
        {
          "output_type": "execute_result",
          "data": {
            "text/plain": [
              "[1, 2, 3, 4, 'cat', 'dog', 'goat']"
            ]
          },
          "metadata": {},
          "execution_count": 9
        }
      ]
    },
    {
      "cell_type": "code",
      "source": [
        "l = [1,2,3,4,\"cat\",\"dog\"]\n",
        "l.insert(4,\"read\")"
      ],
      "metadata": {
        "id": "pVq1VVciNv_a"
      },
      "execution_count": 24,
      "outputs": []
    },
    {
      "cell_type": "code",
      "source": [
        "l"
      ],
      "metadata": {
        "colab": {
          "base_uri": "https://localhost:8080/"
        },
        "id": "O-7y5s3UN2eQ",
        "outputId": "f20601bf-2bf9-41ac-ae59-17fa7afb8552"
      },
      "execution_count": 25,
      "outputs": [
        {
          "output_type": "execute_result",
          "data": {
            "text/plain": [
              "[1, 2, 3, 4, 'read', 'cat', 'dog']"
            ]
          },
          "metadata": {},
          "execution_count": 25
        }
      ]
    },
    {
      "cell_type": "markdown",
      "source": [
        "#11. What are the two methods for removing items from a list?"
      ],
      "metadata": {
        "id": "PbbZXo6AOgzt"
      }
    },
    {
      "cell_type": "code",
      "source": [
        "l = [3,4,5,3,5,3,\"hello\",\"good\"]\n",
        "l.remove(\"hello\")\n",
        "l"
      ],
      "metadata": {
        "colab": {
          "base_uri": "https://localhost:8080/"
        },
        "id": "9tJMbW7jO89r",
        "outputId": "ce34d035-bfc7-42ff-8520-1817627b45c9"
      },
      "execution_count": 30,
      "outputs": [
        {
          "output_type": "execute_result",
          "data": {
            "text/plain": [
              "[3, 4, 5, 3, 5, 3, 'good']"
            ]
          },
          "metadata": {},
          "execution_count": 30
        }
      ]
    },
    {
      "cell_type": "code",
      "source": [
        "l = [3,4,5,3,5,3,\"hello\",\"good\"]\n",
        "l.pop()\n",
        "l"
      ],
      "metadata": {
        "colab": {
          "base_uri": "https://localhost:8080/"
        },
        "id": "1Ginsm2BPEl2",
        "outputId": "38e5e27f-b1ad-4fd6-96ad-9007253c520a"
      },
      "execution_count": 32,
      "outputs": [
        {
          "output_type": "execute_result",
          "data": {
            "text/plain": [
              "[3, 4, 5, 3, 5, 3, 'hello']"
            ]
          },
          "metadata": {},
          "execution_count": 32
        }
      ]
    },
    {
      "cell_type": "code",
      "source": [
        "l = [3,4,5,3,5,3,\"hello\",\"good\"]\n",
        "l.clear()\n",
        "l"
      ],
      "metadata": {
        "colab": {
          "base_uri": "https://localhost:8080/"
        },
        "id": "4DW0PdmdPIu5",
        "outputId": "ed29dbb3-9e32-4e9b-9d57-861bba391e42"
      },
      "execution_count": 34,
      "outputs": [
        {
          "output_type": "execute_result",
          "data": {
            "text/plain": [
              "[]"
            ]
          },
          "metadata": {},
          "execution_count": 34
        }
      ]
    },
    {
      "cell_type": "code",
      "source": [
        "l = [3,4,5,3,5,3,\"hello\",\"good\"]\n",
        "del()\n"
      ],
      "metadata": {
        "id": "oM4VWAsiPc9j"
      },
      "execution_count": 41,
      "outputs": []
    },
    {
      "cell_type": "markdown",
      "source": [
        "#12. Describe how list values and string values are identical.\n",
        "Ans:\n",
        "1. list values and string values will be used in for loop and while loop and control flow statements.\n",
        "2. ordered collection  of values.\n",
        "3. sequenctial order\n",
        "4. both are having length and indexes.\n",
        "5. both are doing slicing\n",
        "\n",
        "\n",
        "\n",
        "\n",
        "\n"
      ],
      "metadata": {
        "id": "h2oAbLDxPx0j"
      }
    },
    {
      "cell_type": "markdown",
      "source": [
        "#13. Whats the difference between tuples and lists?\n",
        "Ans:\n",
        "# tuples:-\n",
        "1.   tuples are **imutability**\n",
        "2.   tuples are represented by ()\n",
        "3.   tuples consumes less memory.\n",
        "\n",
        "# list:-\n",
        "1.   list are **mutability**.\n",
        "2.   List are represented by [ ]\n",
        "3.  list consumes more memory.\n",
        "\n"
      ],
      "metadata": {
        "id": "Yoe63VmyQ866"
      }
    },
    {
      "cell_type": "markdown",
      "source": [
        "#14. How do you type a tuple value that only contains the integer 42?"
      ],
      "metadata": {
        "id": "3SiLEmwBSqvC"
      }
    },
    {
      "cell_type": "code",
      "source": [
        "a =(42,)  # need to use comma in this case\n",
        "a"
      ],
      "metadata": {
        "colab": {
          "base_uri": "https://localhost:8080/"
        },
        "id": "YqBIOlpESzbi",
        "outputId": "2b3d7f94-0243-43b6-b35e-88000f0e13d7"
      },
      "execution_count": 50,
      "outputs": [
        {
          "output_type": "execute_result",
          "data": {
            "text/plain": [
              "(42,)"
            ]
          },
          "metadata": {},
          "execution_count": 50
        }
      ]
    },
    {
      "cell_type": "markdown",
      "source": [
        "#15. How do you get a list values tuple form? How do you get a tuple values list form?"
      ],
      "metadata": {
        "id": "ga0kLHg1Ta8C"
      }
    },
    {
      "cell_type": "code",
      "source": [
        "l = [3,4,5]\n",
        "tuple(l)"
      ],
      "metadata": {
        "colab": {
          "base_uri": "https://localhost:8080/"
        },
        "id": "r_m416_STkb-",
        "outputId": "dc649134-e6b3-47a9-914a-e134e1eea7f6"
      },
      "execution_count": 51,
      "outputs": [
        {
          "output_type": "execute_result",
          "data": {
            "text/plain": [
              "(3, 4, 5)"
            ]
          },
          "metadata": {},
          "execution_count": 51
        }
      ]
    },
    {
      "cell_type": "code",
      "source": [
        "t = (4,5,6)\n",
        "list(t)"
      ],
      "metadata": {
        "colab": {
          "base_uri": "https://localhost:8080/"
        },
        "id": "TC6q9PlVTuFt",
        "outputId": "a4f4de10-1030-4717-a626-f0cacb98a359"
      },
      "execution_count": 52,
      "outputs": [
        {
          "output_type": "execute_result",
          "data": {
            "text/plain": [
              "[4, 5, 6]"
            ]
          },
          "metadata": {},
          "execution_count": 52
        }
      ]
    },
    {
      "cell_type": "markdown",
      "source": [
        "#16. Variables that \"contain\" list values are not necessarily lists themselves. Instead, what do they contain?\n",
        "Ans: Variables which contains refrence with list value"
      ],
      "metadata": {
        "id": "J7DrmxuJT1e4"
      }
    },
    {
      "cell_type": "markdown",
      "source": [
        "#17. How do you distinguish between copy.copy() and copy.deepcopy()?\n",
        "Ans: \n",
        "```\n",
        "copy.copy() is syntax of Shallow copy and Shallow copy creates new object which stores the orginal elements.\n",
        "copy() create refrence  of original object. if you change copied object you change original object.\n",
        "\n",
        "\n",
        "copy.deepcopy() is syntax of  deep copy and deep copy will be only duplicate any list inside the list.\n",
        "deepcopy() creates new object and does real copying of original object to new one. \n",
        "```\n",
        "\n"
      ],
      "metadata": {
        "id": "TdIYXzzgUcG7"
      }
    },
    {
      "cell_type": "code",
      "source": [
        "import copy\n",
        "a =  [1,2,3,4,5]\n",
        "b = copy.copy(a)\n",
        "\n",
        "print(a)\n",
        "print(b)"
      ],
      "metadata": {
        "colab": {
          "base_uri": "https://localhost:8080/"
        },
        "id": "N4I5XJFkUghm",
        "outputId": "15d5e6c5-f08f-496b-fd42-8d16216827be"
      },
      "execution_count": 55,
      "outputs": [
        {
          "output_type": "stream",
          "name": "stdout",
          "text": [
            "[1, 2, 3, 4, 5]\n",
            "[1, 2, 3, 4, 5]\n"
          ]
        }
      ]
    },
    {
      "cell_type": "code",
      "source": [
        "import copy\n",
        "a =  [1,2,3,4,5,[3,4,3,5]]\n",
        "b = copy.deepcopy(a)\n",
        "\n",
        "print(a)\n",
        "print(b)"
      ],
      "metadata": {
        "colab": {
          "base_uri": "https://localhost:8080/"
        },
        "id": "P5QpN7CRW01Y",
        "outputId": "1461cdf3-5123-444b-eeb4-03fcda3f4b9d"
      },
      "execution_count": 57,
      "outputs": [
        {
          "output_type": "stream",
          "name": "stdout",
          "text": [
            "[1, 2, 3, 4, 5, [3, 4, 3, 5]]\n",
            "[1, 2, 3, 4, 5, [3, 4, 3, 5]]\n"
          ]
        }
      ]
    },
    {
      "cell_type": "code",
      "source": [],
      "metadata": {
        "id": "WX_oYA1lW_mv"
      },
      "execution_count": null,
      "outputs": []
    }
  ]
}