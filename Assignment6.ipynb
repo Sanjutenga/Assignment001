{
 "cells": [
  {
   "cell_type": "markdown",
   "id": "9ec5a7a0",
   "metadata": {},
   "source": [
    "# 1. What are escape characters, and how do you use them?\n",
    "\n",
    "Ans: The escape character is an backslash  \"\\\" followed by the character you want to insert.\n"
   ]
  },
  {
   "cell_type": "code",
   "execution_count": 6,
   "id": "dcf63884",
   "metadata": {},
   "outputs": [],
   "source": [
    "a = \"We are Indians, We are very \\\"humble\\\" to other nations\"   # Escape character example"
   ]
  },
  {
   "cell_type": "code",
   "execution_count": 7,
   "id": "5716566a",
   "metadata": {},
   "outputs": [
    {
     "data": {
      "text/plain": [
       "'We are Indians, We are very \"humble\" to other nations'"
      ]
     },
     "execution_count": 7,
     "metadata": {},
     "output_type": "execute_result"
    }
   ],
   "source": [
    "a"
   ]
  },
  {
   "cell_type": "markdown",
   "id": "8e444749",
   "metadata": {},
   "source": [
    "# 2. What do the escape characters n and t stand for?\n",
    "\n",
    "Ans: escape character mainly we used for representing whitespace which is indicated by \"\\\"\n",
    "```\n",
    "\"\\t\"  -  tab\n",
    "\"\\n\"  -  newline\n",
    "```"
   ]
  },
  {
   "cell_type": "markdown",
   "id": "437703b2",
   "metadata": {},
   "source": [
    "# 3. What is the way to include backslash characters in a string?\n",
    "Ans: Than we need to use double [\\ \\ escape] blackslash character"
   ]
  },
  {
   "cell_type": "code",
   "execution_count": 4,
   "id": "04f48619",
   "metadata": {},
   "outputs": [],
   "source": [
    "a = \"\\\\Tasks\";\n"
   ]
  },
  {
   "cell_type": "code",
   "execution_count": 5,
   "id": "1d3a6810",
   "metadata": {},
   "outputs": [
    {
     "data": {
      "text/plain": [
       "'\\\\Tasks'"
      ]
     },
     "execution_count": 5,
     "metadata": {},
     "output_type": "execute_result"
    }
   ],
   "source": [
    "a"
   ]
  },
  {
   "cell_type": "markdown",
   "id": "6e6743bf",
   "metadata": {},
   "source": [
    "# 4. The string value \"Howl's Moving Castle\" is a valid string. Why isn't is a problem that the single quote character in the word Howl's isn't escaped?\n",
    "\n",
    "Ans: The string we are used for the sentence called \"Howl's Moving Castle\" is mainly we used begining and ending with double quote but it won't affect to single quote of in sentence of word Howl's."
   ]
  },
  {
   "cell_type": "code",
   "execution_count": 9,
   "id": "69154982",
   "metadata": {},
   "outputs": [],
   "source": [
    "a = \"Howl's Moving Castle\" "
   ]
  },
  {
   "cell_type": "code",
   "execution_count": 10,
   "id": "1955216c",
   "metadata": {},
   "outputs": [
    {
     "data": {
      "text/plain": [
       "\"Howl's Moving Castle\""
      ]
     },
     "execution_count": 10,
     "metadata": {},
     "output_type": "execute_result"
    }
   ],
   "source": [
    "a"
   ]
  },
  {
   "cell_type": "markdown",
   "id": "6195d253",
   "metadata": {},
   "source": [
    "# 5. How do you write a string of newlines if you don't want to use the \\n character?\n",
    "\n",
    "Ans: Without using backslah escape character for newline \\n, to write an string in newlines we can use multiline string(\"\"\" \"\"\")"
   ]
  },
  {
   "cell_type": "markdown",
   "id": "4bb6640f",
   "metadata": {},
   "source": [
    "# 6. What are the values of the given expressions?"
   ]
  },
  {
   "cell_type": "code",
   "execution_count": 11,
   "id": "c555779c",
   "metadata": {},
   "outputs": [
    {
     "data": {
      "text/plain": [
       "'e'"
      ]
     },
     "execution_count": 11,
     "metadata": {},
     "output_type": "execute_result"
    }
   ],
   "source": [
    "'Hello world!'[1]"
   ]
  },
  {
   "cell_type": "code",
   "execution_count": 12,
   "id": "5dc2db1e",
   "metadata": {},
   "outputs": [
    {
     "data": {
      "text/plain": [
       "'Hello'"
      ]
     },
     "execution_count": 12,
     "metadata": {},
     "output_type": "execute_result"
    }
   ],
   "source": [
    "'Hello world!'[0:5]    # slicing"
   ]
  },
  {
   "cell_type": "code",
   "execution_count": 13,
   "id": "28ca4603",
   "metadata": {},
   "outputs": [
    {
     "data": {
      "text/plain": [
       "'Hello'"
      ]
     },
     "execution_count": 13,
     "metadata": {},
     "output_type": "execute_result"
    }
   ],
   "source": [
    "'Hello world!'[:5]"
   ]
  },
  {
   "cell_type": "code",
   "execution_count": 14,
   "id": "9db31ee2",
   "metadata": {},
   "outputs": [
    {
     "data": {
      "text/plain": [
       "'lo world!'"
      ]
     },
     "execution_count": 14,
     "metadata": {},
     "output_type": "execute_result"
    }
   ],
   "source": [
    "'Hello world!'[3:]"
   ]
  },
  {
   "cell_type": "markdown",
   "id": "3e6ca057",
   "metadata": {},
   "source": [
    "# 7. What are the values of the following expressions?"
   ]
  },
  {
   "cell_type": "code",
   "execution_count": 15,
   "id": "65dcc6b5",
   "metadata": {},
   "outputs": [
    {
     "data": {
      "text/plain": [
       "'HELLO'"
      ]
     },
     "execution_count": 15,
     "metadata": {},
     "output_type": "execute_result"
    }
   ],
   "source": [
    "'Hello'.upper()"
   ]
  },
  {
   "cell_type": "code",
   "execution_count": 16,
   "id": "e7fd69c8",
   "metadata": {},
   "outputs": [
    {
     "data": {
      "text/plain": [
       "True"
      ]
     },
     "execution_count": 16,
     "metadata": {},
     "output_type": "execute_result"
    }
   ],
   "source": [
    "'Hello'.upper().isupper()    # it will check true or false by using"
   ]
  },
  {
   "cell_type": "code",
   "execution_count": 18,
   "id": "4c7401a3",
   "metadata": {},
   "outputs": [
    {
     "data": {
      "text/plain": [
       "'hello'"
      ]
     },
     "execution_count": 18,
     "metadata": {},
     "output_type": "execute_result"
    }
   ],
   "source": [
    "'Hello'.upper().lower()\n"
   ]
  },
  {
   "cell_type": "markdown",
   "id": "ec3357f2",
   "metadata": {},
   "source": [
    "# 8. What are the values of the following expressions?"
   ]
  },
  {
   "cell_type": "code",
   "execution_count": 24,
   "id": "694bb3fa",
   "metadata": {},
   "outputs": [
    {
     "data": {
      "text/plain": [
       "['Remember,', 'remember,', 'the', 'fifth', 'of', 'November.']"
      ]
     },
     "execution_count": 24,
     "metadata": {},
     "output_type": "execute_result"
    }
   ],
   "source": [
    "'Remember, remember, the fifth of November.'.split()   #the split keyword   split of each words\n"
   ]
  },
  {
   "cell_type": "code",
   "execution_count": 25,
   "id": "e910b21e",
   "metadata": {},
   "outputs": [],
   "source": [
    "a = 'Remember, remember, the fifth of November.'.split()   #the split keyword\n"
   ]
  },
  {
   "cell_type": "code",
   "execution_count": 26,
   "id": "2e187d2c",
   "metadata": {},
   "outputs": [
    {
     "data": {
      "text/plain": [
       "list"
      ]
     },
     "execution_count": 26,
     "metadata": {},
     "output_type": "execute_result"
    }
   ],
   "source": [
    "type(a)"
   ]
  },
  {
   "cell_type": "code",
   "execution_count": 27,
   "id": "2d98dc77",
   "metadata": {},
   "outputs": [
    {
     "data": {
      "text/plain": [
       "'There-can-be-only-one.'"
      ]
     },
     "execution_count": 27,
     "metadata": {},
     "output_type": "execute_result"
    }
   ],
   "source": [
    "'-'.join('There can be only one.'.split())   # joining of words by -  \"join\""
   ]
  },
  {
   "cell_type": "markdown",
   "id": "ff09186c",
   "metadata": {},
   "source": [
    "# 9. What are the methods for right-justifying, left-justifying, and centering a string?"
   ]
  },
  {
   "cell_type": "code",
   "execution_count": 30,
   "id": "a2cdca38",
   "metadata": {},
   "outputs": [
    {
     "data": {
      "text/plain": [
       "'                              mango'"
      ]
     },
     "execution_count": 30,
     "metadata": {},
     "output_type": "execute_result"
    }
   ],
   "source": [
    "a = \"mango\"     # right justifying\n",
    "a.rjust(35)"
   ]
  },
  {
   "cell_type": "code",
   "execution_count": 31,
   "id": "e4926eca",
   "metadata": {},
   "outputs": [
    {
     "data": {
      "text/plain": [
       "'mango                              '"
      ]
     },
     "execution_count": 31,
     "metadata": {},
     "output_type": "execute_result"
    }
   ],
   "source": [
    "a = \"mango\"     # left justifying\n",
    "a.ljust(35)"
   ]
  },
  {
   "cell_type": "code",
   "execution_count": 32,
   "id": "a0601b24",
   "metadata": {},
   "outputs": [
    {
     "data": {
      "text/plain": [
       "'               mango               '"
      ]
     },
     "execution_count": 32,
     "metadata": {},
     "output_type": "execute_result"
    }
   ],
   "source": [
    "a = \"mango\"      # centering a string\n",
    "a.center(35)"
   ]
  },
  {
   "cell_type": "markdown",
   "id": "53c6c5f7",
   "metadata": {},
   "source": [
    "# 10. What is the best way to remove whitespace characters from the start or end?\n",
    "\n",
    "Ans: the best way to remove the space is by strip method strip()"
   ]
  },
  {
   "cell_type": "code",
   "execution_count": 33,
   "id": "2c9a8795",
   "metadata": {},
   "outputs": [
    {
     "data": {
      "text/plain": [
       "'mango'"
      ]
     },
     "execution_count": 33,
     "metadata": {},
     "output_type": "execute_result"
    }
   ],
   "source": [
    "a = \"              mango\"    # removing the unwanted spaces\n",
    "a.lstrip()"
   ]
  },
  {
   "cell_type": "code",
   "execution_count": 34,
   "id": "8a74a255",
   "metadata": {},
   "outputs": [
    {
     "data": {
      "text/plain": [
       "'   mango'"
      ]
     },
     "execution_count": 34,
     "metadata": {},
     "output_type": "execute_result"
    }
   ],
   "source": [
    "a =  \"   mango                          \"\n",
    "a.rstrip()"
   ]
  },
  {
   "cell_type": "code",
   "execution_count": 35,
   "id": "a79f7ee3",
   "metadata": {},
   "outputs": [
    {
     "data": {
      "text/plain": [
       "'mango'"
      ]
     },
     "execution_count": 35,
     "metadata": {},
     "output_type": "execute_result"
    }
   ],
   "source": [
    "a = \"                        mango                          \"\n",
    "a.strip()"
   ]
  }
 ],
 "metadata": {
  "kernelspec": {
   "display_name": "Python 3 (ipykernel)",
   "language": "python",
   "name": "python3"
  },
  "language_info": {
   "codemirror_mode": {
    "name": "ipython",
    "version": 3
   },
   "file_extension": ".py",
   "mimetype": "text/x-python",
   "name": "python",
   "nbconvert_exporter": "python",
   "pygments_lexer": "ipython3",
   "version": "3.9.13"
  }
 },
 "nbformat": 4,
 "nbformat_minor": 5
}
