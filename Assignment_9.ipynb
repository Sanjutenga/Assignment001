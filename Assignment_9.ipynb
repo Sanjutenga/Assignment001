{
 "cells": [
  {
   "cell_type": "markdown",
   "id": "2f963977",
   "metadata": {},
   "source": [
    "# 1. To what does a relative path refer?\n",
    "\n",
    "Ans: The location where the particular file path is located or relative to an __current directory.__"
   ]
  },
  {
   "cell_type": "code",
   "execution_count": 1,
   "id": "dd470df6",
   "metadata": {},
   "outputs": [
    {
     "data": {
      "text/plain": [
       "'C:\\\\Users\\\\bhavi'"
      ]
     },
     "execution_count": 1,
     "metadata": {},
     "output_type": "execute_result"
    }
   ],
   "source": [
    "pwd()"
   ]
  },
  {
   "cell_type": "markdown",
   "id": "3496611a",
   "metadata": {},
   "source": [
    "# 2. What does an absolute path start with your operating system?\n",
    "\n",
    "Ans: The absolute path is an exact path of an file directory that you need access. The path will be __home directory__ of computer.The actual file located in an Operating system."
   ]
  },
  {
   "cell_type": "markdown",
   "id": "0f8a6d6d",
   "metadata": {},
   "source": [
    "# 3. What do the functions os.getcwd() and os.chdir() do?"
   ]
  },
  {
   "cell_type": "code",
   "execution_count": 7,
   "id": "29d33be6",
   "metadata": {},
   "outputs": [
    {
     "data": {
      "text/plain": [
       "'C:\\\\Users\\\\bhavi'"
      ]
     },
     "execution_count": 7,
     "metadata": {},
     "output_type": "execute_result"
    }
   ],
   "source": [
    "import os\n",
    "os.getcwd()"
   ]
  },
  {
   "cell_type": "code",
   "execution_count": 14,
   "id": "e49cfbb8",
   "metadata": {},
   "outputs": [
    {
     "name": "stdout",
     "output_type": "stream",
     "text": [
      "directory changed\n"
     ]
    }
   ],
   "source": [
    "os.chdir('C:\\\\Users\\\\bhavi')   # the complete path of directory to be changed to New directory path\n",
    "print(\"directory changed\")"
   ]
  },
  {
   "cell_type": "markdown",
   "id": "613c2d61",
   "metadata": {},
   "source": [
    "# 4. What are the . and .. folders?\n",
    "\n",
    "Ans: __.and..__ is entries which normally present in every directory."
   ]
  },
  {
   "cell_type": "markdown",
   "id": "41843606",
   "metadata": {},
   "source": [
    "# 5. In C:\\bacon\\eggs\\spam.txt, which part is the dir name, and which part is the base name?\n",
    "\n",
    "Ans: __C:\\bacon\\eggs__ is called  dir name.   __spam.txt__ is called base name"
   ]
  },
  {
   "cell_type": "markdown",
   "id": "042e523d",
   "metadata": {},
   "source": [
    "# 6. What are the three “mode” arguments that can be passed to the open() function?\n",
    "\n"
   ]
  },
  {
   "cell_type": "code",
   "execution_count": null,
   "id": "e9a38a3f",
   "metadata": {},
   "outputs": [],
   "source": [
    "f = open('neuron.txt', 'r')   # read only an file"
   ]
  },
  {
   "cell_type": "code",
   "execution_count": null,
   "id": "c4cd4070",
   "metadata": {},
   "outputs": [],
   "source": [
    "f = open('neuron.txt , 'r+')   # read and write an file"
   ]
  },
  {
   "cell_type": "code",
   "execution_count": null,
   "id": "9e792813",
   "metadata": {},
   "outputs": [],
   "source": [
    "f = open('neuron.txt', 'w')   # only write an file"
   ]
  },
  {
   "cell_type": "markdown",
   "id": "985c04f1",
   "metadata": {},
   "source": [
    "# 7. What happens if an existing file is opened in write mode?\n",
    "\n",
    "Ans: when writing mode is defined, it creates the empty file for operations, and replacing the existing content.\n"
   ]
  },
  {
   "cell_type": "code",
   "execution_count": null,
   "id": "36ffa76a",
   "metadata": {},
   "outputs": [],
   "source": [
    "f = open('neuron.txt', 'w')"
   ]
  },
  {
   "cell_type": "code",
   "execution_count": null,
   "id": "3c163373",
   "metadata": {},
   "outputs": [],
   "source": [
    "f.write(\"\"\"  \"\"\")"
   ]
  },
  {
   "cell_type": "markdown",
   "id": "9246cd05",
   "metadata": {},
   "source": [
    "# 8. How do you tell the difference between read() and readlines()?\n",
    "\n",
    "Ans : the read() is mainly reads entire file or an document, but readlines() are mainly reads line by line and provides __each__ line in the file as a list item."
   ]
  },
  {
   "cell_type": "markdown",
   "id": "18a7002c",
   "metadata": {},
   "source": [
    "# 9. What data structure does a shelf value resemble?\n",
    "\n",
    "Ans: The shelf value resemble a __dictionary value__. It mainly contains __keys and values__."
   ]
  }
 ],
 "metadata": {
  "kernelspec": {
   "display_name": "Python 3 (ipykernel)",
   "language": "python",
   "name": "python3"
  },
  "language_info": {
   "codemirror_mode": {
    "name": "ipython",
    "version": 3
   },
   "file_extension": ".py",
   "mimetype": "text/x-python",
   "name": "python",
   "nbconvert_exporter": "python",
   "pygments_lexer": "ipython3",
   "version": "3.9.13"
  }
 },
 "nbformat": 4,
 "nbformat_minor": 5
}
