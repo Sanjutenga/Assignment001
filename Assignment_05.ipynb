{
  "nbformat": 4,
  "nbformat_minor": 0,
  "metadata": {
    "colab": {
      "provenance": [],
      "authorship_tag": "ABX9TyNh+GeQYobfxufaHQljQ2hc",
      "include_colab_link": true
    },
    "kernelspec": {
      "name": "python3",
      "display_name": "Python 3"
    },
    "language_info": {
      "name": "python"
    }
  },
  "cells": [
    {
      "cell_type": "markdown",
      "metadata": {
        "id": "view-in-github",
        "colab_type": "text"
      },
      "source": [
        "<a href=\"https://colab.research.google.com/github/Sanjutenga/Dashboard_Assignment/blob/main/Assignment_05.ipynb\" target=\"_parent\"><img src=\"https://colab.research.google.com/assets/colab-badge.svg\" alt=\"Open In Colab\"/></a>"
      ]
    },
    {
      "cell_type": "markdown",
      "source": [
        "#1. What does an empty dictionarys code look like?\n",
        "Ans:- the empty dictionary look like {}"
      ],
      "metadata": {
        "id": "7-SBf-KuZ49Y"
      }
    },
    {
      "cell_type": "code",
      "source": [
        "dict = {}"
      ],
      "metadata": {
        "id": "6xf6bF_TaDpv"
      },
      "execution_count": 1,
      "outputs": []
    },
    {
      "cell_type": "markdown",
      "source": [
        "#2. What is the value of a dictionary value with the key 'foo' and the value 42?"
      ],
      "metadata": {
        "id": "NjcN1MXsaLzH"
      }
    },
    {
      "cell_type": "code",
      "source": [
        "d = {'foo' :42}\n",
        "d"
      ],
      "metadata": {
        "colab": {
          "base_uri": "https://localhost:8080/"
        },
        "id": "lRmiiHgiaUGb",
        "outputId": "a5130c7c-5672-496c-c3d6-4c3bde431a51"
      },
      "execution_count": 4,
      "outputs": [
        {
          "output_type": "execute_result",
          "data": {
            "text/plain": [
              "{'foo': 42}"
            ]
          },
          "metadata": {},
          "execution_count": 4
        }
      ]
    },
    {
      "cell_type": "markdown",
      "source": [
        "#3. What is the most significant distinction between a dictionary and a list?\n",
        "Ans:- \n",
        "dictionary items stored in form of **unordered**{'key':value}, and list is stored in the form of ordered and sequential [ ]"
      ],
      "metadata": {
        "id": "7_l-YWWiagjn"
      }
    },
    {
      "cell_type": "markdown",
      "source": [
        "#4. What happens if you try to access spam['foo'] if spam is {'bar': 100}?\n",
        "Ans: KeyError"
      ],
      "metadata": {
        "id": "BhZ3lMNNbYkP"
      }
    },
    {
      "cell_type": "code",
      "source": [
        "spam['foo',{'bar': 100}]"
      ],
      "metadata": {
        "colab": {
          "base_uri": "https://localhost:8080/",
          "height": 167
        },
        "id": "Hzrf8ftmb5s9",
        "outputId": "0bc4db72-f54b-4e94-aa89-7f1aff277658"
      },
      "execution_count": 8,
      "outputs": [
        {
          "output_type": "error",
          "ename": "TypeError",
          "evalue": "ignored",
          "traceback": [
            "\u001b[0;31m---------------------------------------------------------------------------\u001b[0m",
            "\u001b[0;31mTypeError\u001b[0m                                 Traceback (most recent call last)",
            "\u001b[0;32m<ipython-input-8-5b85f3550e89>\u001b[0m in \u001b[0;36m<module>\u001b[0;34m\u001b[0m\n\u001b[0;32m----> 1\u001b[0;31m \u001b[0mspam\u001b[0m\u001b[0;34m[\u001b[0m\u001b[0;34m'foo'\u001b[0m\u001b[0;34m,\u001b[0m\u001b[0;34m{\u001b[0m\u001b[0;34m'bar'\u001b[0m\u001b[0;34m:\u001b[0m \u001b[0;36m100\u001b[0m\u001b[0;34m}\u001b[0m\u001b[0;34m]\u001b[0m\u001b[0;34m\u001b[0m\u001b[0;34m\u001b[0m\u001b[0m\n\u001b[0m",
            "\u001b[0;31mTypeError\u001b[0m: unhashable type: 'dict'"
          ]
        }
      ]
    },
    {
      "cell_type": "markdown",
      "source": [
        "#5. If a dictionary is stored in spam, what is the difference between the expressions 'cat' in spam and 'cat' in spam.keys()?\n",
        "Ans: There is No difference, it mainly checks wheather value exists as a key in the dictionary"
      ],
      "metadata": {
        "id": "6T4sBe9WdFEW"
      }
    },
    {
      "cell_type": "markdown",
      "source": [
        "#6. If a dictionary is stored in spam, what is the difference between the expressions 'cat' in spam and 'cat' in spam.values()?\n",
        "Ans:There is No difference. it mainly checks wheather key exist as a value in the dictionary.\n",
        "'cat' in spam checks particular key or not with values,but 'cat' in spam.values checks value 'cat' for one of key in spam"
      ],
      "metadata": {
        "id": "DWIiYFx2eHsu"
      }
    },
    {
      "cell_type": "markdown",
      "source": [
        "#7. What is a shortcut for the following code?\n",
        "if 'color' not in spam:\n",
        "spam['color'] = 'black"
      ],
      "metadata": {
        "id": "h0xcveyefYPN"
      }
    },
    {
      "cell_type": "code",
      "source": [
        "spam.setdefault('color','black')"
      ],
      "metadata": {
        "colab": {
          "base_uri": "https://localhost:8080/",
          "height": 35
        },
        "id": "6LCWk9wXfnRD",
        "outputId": "b8c83a0a-8a5e-4275-f6af-3633391dc306"
      },
      "execution_count": 9,
      "outputs": [
        {
          "output_type": "execute_result",
          "data": {
            "text/plain": [
              "'black'"
            ],
            "application/vnd.google.colaboratory.intrinsic+json": {
              "type": "string"
            }
          },
          "metadata": {},
          "execution_count": 9
        }
      ]
    },
    {
      "cell_type": "markdown",
      "source": [
        "#8. How do you \"pretty print\" dictionary values using which module and function?\n",
        "Ans: - The pprint module used to input to interpreter"
      ],
      "metadata": {
        "id": "nGVmP2bygZUN"
      }
    },
    {
      "cell_type": "code",
      "source": [
        "a =90\n",
        "pprint.pprint(a)"
      ],
      "metadata": {
        "colab": {
          "base_uri": "https://localhost:8080/"
        },
        "id": "xc-l_9GcgeaD",
        "outputId": "3f3bcd71-6999-4347-ff19-48aa465007bc"
      },
      "execution_count": 14,
      "outputs": [
        {
          "output_type": "stream",
          "name": "stdout",
          "text": [
            "90\n"
          ]
        }
      ]
    }
  ]
}