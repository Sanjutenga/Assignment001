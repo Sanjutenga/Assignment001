{
 "cells": [
  {
   "cell_type": "markdown",
   "id": "dbb28997",
   "metadata": {},
   "source": [
    "# 1. Is the Python Standard Library included with PyInputPlus?\n",
    "\n",
    "Ans: PyInputPlus is not an part of __Standard Library__. so you must install separate by using Pip"
   ]
  },
  {
   "cell_type": "markdown",
   "id": "4c822f7f",
   "metadata": {},
   "source": [
    "# 2. Why is PyInputPlus commonly imported with import pyinputplus as pypi?\n",
    "\n",
    "Ans: you can called by shorter refrence name u can call any name like __pypi__ by calling modulers function"
   ]
  },
  {
   "cell_type": "code",
   "execution_count": null,
   "id": "4b64f96e",
   "metadata": {},
   "outputs": [],
   "source": [
    "!pip install pyinputplus"
   ]
  },
  {
   "cell_type": "code",
   "execution_count": null,
   "id": "75264071",
   "metadata": {},
   "outputs": [],
   "source": [
    "import pyinputplus as pypi"
   ]
  },
  {
   "cell_type": "markdown",
   "id": "fdd403b2",
   "metadata": {},
   "source": [
    "# 3. How do you distinguish between inputInt() and inputFloat()?\n",
    "\n",
    "Ans: __inputInt()__ is mainly accepts an __integer value__. this will take parameters like max,min,greater than,lesser than, It will take values of this parameter and returns into an int\n",
    "__inputFloat()__ is mainly accepts float or decimal value. and returns an float value"
   ]
  },
  {
   "cell_type": "code",
   "execution_count": 8,
   "id": "1b05e98b",
   "metadata": {},
   "outputs": [
    {
     "name": "stdout",
     "output_type": "stream",
     "text": [
      "Enter num: 6\n"
     ]
    }
   ],
   "source": [
    "import pyinputplus as pyip\n",
    "a = pyip.inputInt('Enter num: ', min=4)"
   ]
  },
  {
   "cell_type": "markdown",
   "id": "91a305aa",
   "metadata": {},
   "source": [
    "# 4. Using PyInputPlus, how do you ensure that the user enters a whole number between 0 and 99?"
   ]
  },
  {
   "cell_type": "code",
   "execution_count": null,
   "id": "989b6276",
   "metadata": {},
   "outputs": [],
   "source": [
    "pyip.inputint(min = 0,max = 99)"
   ]
  },
  {
   "cell_type": "markdown",
   "id": "a53722ad",
   "metadata": {},
   "source": [
    "# 5. What is transferred to the keyword arguments allowRegexes and blockRegexes?\n",
    "\n",
    "Ans: The list of regex is an keyword is either allowed or blocked[dinied] in which you can use regular expression strings to determine which allowed or denied."
   ]
  },
  {
   "cell_type": "markdown",
   "id": "4114abc7",
   "metadata": {},
   "source": [
    "# 6. If a blank input is entered three times, what does inputStr(limit=3) do?\n",
    "\n",
    "Ans: The function will be raise __RetryLimitException__."
   ]
  },
  {
   "cell_type": "markdown",
   "id": "8dc691d5",
   "metadata": {},
   "source": [
    "# 7. If blank input is entered three times, what does inputStr(limit=3, default='hello') do?\n",
    "\n",
    "Ans: It returns with default value called __hello__"
   ]
  },
  {
   "cell_type": "code",
   "execution_count": null,
   "id": "c82941ee",
   "metadata": {},
   "outputs": [],
   "source": []
  }
 ],
 "metadata": {
  "kernelspec": {
   "display_name": "Python 3 (ipykernel)",
   "language": "python",
   "name": "python3"
  },
  "language_info": {
   "codemirror_mode": {
    "name": "ipython",
    "version": 3
   },
   "file_extension": ".py",
   "mimetype": "text/x-python",
   "name": "python",
   "nbconvert_exporter": "python",
   "pygments_lexer": "ipython3",
   "version": "3.9.13"
  }
 },
 "nbformat": 4,
 "nbformat_minor": 5
}
